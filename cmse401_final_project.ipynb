{
 "cells": [
  {
   "cell_type": "markdown",
   "id": "0f7d7e5c",
   "metadata": {},
   "source": [
    "<h1> <center> Database Parallelization Project (CMSE 401) <center/>"
   ]
  },
  {
   "cell_type": "code",
   "execution_count": 1,
   "id": "99946852",
   "metadata": {},
   "outputs": [],
   "source": [
    "import numpy as np\n",
    "import pandas as pd\n",
    "import matplotlib.pyplot as plt\n",
    "import time\n",
    "import sqlite3\n",
    "\n",
    "import multiprocessing.pool\n",
    "from multiprocessing.pool import ThreadPool\n",
    "from multiprocessing import cpu_count"
   ]
  },
  {
   "cell_type": "code",
   "execution_count": 2,
   "id": "78afe8e2",
   "metadata": {},
   "outputs": [],
   "source": [
    "cancer_data = pd.read_csv(\"https://raw.githubusercontent.com/Hindrest/Database_Optimization_Project/main/breast_cancer.csv\") #569 entries | small\n",
    "\n",
    "us_school_data = pd.read_csv(\"https://raw.githubusercontent.com/Hindrest/Database_Optimization_Project/main/states_all_extended.csv\")#1715 Entries | medium\n",
    "\n",
    "best_buy_data = pd.read_csv(\"https://raw.githubusercontent.com/Hindrest/Database_Optimization_Project/main/bestbuy.csv\") #15,120 entries | large\n",
    "\n",
    "manga_data = pd.read_csv(\"https://raw.githubusercontent.com/Hindrest/Database_Optimization_Project/main/manga.csv\") #67,273 entries | Large"
   ]
  },
  {
   "cell_type": "code",
   "execution_count": 3,
   "id": "46e3d4d7",
   "metadata": {},
   "outputs": [
    {
     "name": "stdout",
     "output_type": "stream",
     "text": [
      "(569, 33)\n",
      "\n",
      "(1715, 266)\n",
      "\n",
      "(15210, 6)\n",
      "\n",
      "(67273, 31)\n"
     ]
    }
   ],
   "source": [
    "print(cancer_data.shape)\n",
    "print('')\n",
    "print(us_school_data.shape)\n",
    "print('')\n",
    "print(best_buy_data.shape)\n",
    "print('')\n",
    "print(manga_data.shape)"
   ]
  },
  {
   "cell_type": "code",
   "execution_count": 4,
   "id": "e9438d56",
   "metadata": {},
   "outputs": [
    {
     "data": {
      "text/plain": [
       "256"
      ]
     },
     "execution_count": 4,
     "metadata": {},
     "output_type": "execute_result"
    }
   ],
   "source": [
    "cpu_count()"
   ]
  },
  {
   "cell_type": "markdown",
   "id": "0d4b3851",
   "metadata": {},
   "source": [
    "<h1> <center>Part 1: Creating a database using sqlite3<center/>"
   ]
  },
  {
   "cell_type": "code",
   "execution_count": 5,
   "id": "146e2033",
   "metadata": {},
   "outputs": [],
   "source": [
    "#Initializing the database object to create the file as is\n",
    "conn = sqlite3.connect('cmse_401_project_database')\n",
    "cur = conn.cursor()"
   ]
  },
  {
   "cell_type": "code",
   "execution_count": 6,
   "id": "cf138912",
   "metadata": {},
   "outputs": [],
   "source": [
    "#A function to query the database without having to manually retype all of this every time\n",
    "def query_db(query):\n",
    "    conn = sqlite3.connect('cmse_401_project_database')\n",
    "    cur = conn.cursor()\n",
    "    cur.execute(query)\n",
    "    if 'SELECT' in query:\n",
    "        result = cur.fetchall()\n",
    "        conn.close()\n",
    "        return result\n",
    "    conn.close()\n",
    "    return"
   ]
  },
  {
   "cell_type": "markdown",
   "id": "63174cb5",
   "metadata": {},
   "source": [
    "<h1> <center>Part 2: Benchmarking Insertion and Retrieval of Data<center/>"
   ]
  },
  {
   "cell_type": "code",
   "execution_count": 11,
   "id": "1be5ebe0",
   "metadata": {},
   "outputs": [],
   "source": [
    "#Very basic dictionary used to hold the timing results\n",
    "timing_data = {'Cancer Data':0,'US School Data':0,'Best Buy Data':0,'Manga Data':0}"
   ]
  },
  {
   "cell_type": "code",
   "execution_count": 26,
   "id": "78c0dba3",
   "metadata": {},
   "outputs": [
    {
     "name": "stdout",
     "output_type": "stream",
     "text": [
      "Total run time: 0.04691481590270996\n",
      "Total run time: 0.2944786548614502\n",
      "Total run time: 0.23247551918029785\n",
      "Total run time: 6.223458290100098\n"
     ]
    }
   ],
   "source": [
    "start_time = time.time()\n",
    "cancer_data.to_sql(name='cancer_data', con=conn, if_exists='replace', index=False)\n",
    "end_time = time.time()\n",
    "print(\"Total run time:\",end_time - start_time)\n",
    "timing_data['Cancer Data'] = (end_time - start_time)\n",
    "\n",
    "start_time = time.time()\n",
    "us_school_data.to_sql(name='us_school_data', con=conn, if_exists='replace', index=False)\n",
    "end_time = time.time()\n",
    "print(\"Total run time:\",end_time - start_time)\n",
    "timing_data['US School Data'] = (end_time - start_time)\n",
    "\n",
    "start_time = time.time()\n",
    "best_buy_data.to_sql(name='best_buy_data', con=conn, if_exists='replace', index=False)\n",
    "end_time = time.time()\n",
    "print(\"Total run time:\",end_time - start_time)\n",
    "timing_data['Best Buy Data'] = (end_time - start_time)\n",
    "\n",
    "start_time = time.time()\n",
    "manga_data.to_sql(name='manga_data', con=conn, if_exists='replace', index=False)\n",
    "end_time = time.time()\n",
    "print(\"Total run time:\",end_time - start_time)\n",
    "timing_data['Manga Data'] = (end_time - start_time)"
   ]
  },
  {
   "cell_type": "code",
   "execution_count": 27,
   "id": "634b4891",
   "metadata": {},
   "outputs": [
    {
     "data": {
      "text/plain": [
       "{'Cancer Data': 0.04691481590270996,\n",
       " 'US School Data': 0.2944786548614502,\n",
       " 'Best Buy Data': 0.23247551918029785,\n",
       " 'Manga Data': 6.223458290100098}"
      ]
     },
     "execution_count": 27,
     "metadata": {},
     "output_type": "execute_result"
    }
   ],
   "source": [
    "timing_data"
   ]
  },
  {
   "cell_type": "code",
   "execution_count": 28,
   "id": "2761b7a0",
   "metadata": {},
   "outputs": [
    {
     "data": {
      "text/plain": [
       "Text(0.5, 1.0, 'Insertion time for varying Data Sizes')"
      ]
     },
     "execution_count": 28,
     "metadata": {},
     "output_type": "execute_result"
    },
    {
     "data": {
      "image/png": "[encoded data removed]",
      "text/plain": [
       "<Figure size 432x288 with 1 Axes>"
      ]
     },
     "metadata": {
      "needs_background": "light"
     },
     "output_type": "display_data"
    }
   ],
   "source": [
    "plt.bar(timing_data.keys(),timing_data.values())\n",
    "plt.xlabel('Table')\n",
    "plt.ylabel('Seconds')\n",
    "plt.title('Insertion time for varying Data Sizes')"
   ]
  },
  {
   "cell_type": "code",
   "execution_count": 29,
   "id": "91a94f80",
   "metadata": {},
   "outputs": [
    {
     "name": "stdout",
     "output_type": "stream",
     "text": [
      "Total run time: 0.024936199188232422\n",
      "Total run time: 0.05270814895629883\n",
      "Total run time: 0.02920699119567871\n",
      "Total run time: 0.5801727771759033\n"
     ]
    }
   ],
   "source": [
    "start_time = time.time()\n",
    "query_db(\"SELECT * FROM cancer_data\")\n",
    "end_time = time.time()\n",
    "print(\"Total run time:\",end_time - start_time)\n",
    "timing_data['Cancer Data'] = (end_time - start_time)\n",
    "\n",
    "start_time = time.time()\n",
    "query_db(\"SELECT * FROM us_school_data\")\n",
    "end_time = time.time()\n",
    "print(\"Total run time:\",end_time - start_time)\n",
    "timing_data['US School Data'] = (end_time - start_time)\n",
    "\n",
    "start_time = time.time()\n",
    "query_db(\"SELECT * FROM best_buy_data\")\n",
    "end_time = time.time()\n",
    "print(\"Total run time:\",end_time - start_time)\n",
    "timing_data['Best Buy Data'] = (end_time - start_time)\n",
    "\n",
    "start_time = time.time()\n",
    "query_db(\"SELECT * FROM manga_data\")\n",
    "end_time = time.time()\n",
    "print(\"Total run time:\",end_time - start_time)\n",
    "timing_data['Manga Data'] = (end_time - start_time)\n",
    "base1 = timing_data\n",
    "manga_base = timing_data['Manga Data']"
   ]
  },
  {
   "cell_type": "code",
   "execution_count": 31,
   "id": "8fce3603",
   "metadata": {},
   "outputs": [
    {
     "data": {
      "text/plain": [
       "{'Cancer Data': 0.024936199188232422,\n",
       " 'US School Data': 0.05270814895629883,\n",
       " 'Best Buy Data': 0.02920699119567871,\n",
       " 'Manga Data': 0.5801727771759033}"
      ]
     },
     "execution_count": 31,
     "metadata": {},
     "output_type": "execute_result"
    }
   ],
   "source": [
    "timing_data"
   ]
  },
  {
   "cell_type": "code",
   "execution_count": 32,
   "id": "cdb0cdf4",
   "metadata": {},
   "outputs": [
    {
     "data": {
      "text/plain": [
       "Text(0.5, 1.0, 'Query Times for Unoptimized Queries')"
      ]
     },
     "execution_count": 32,
     "metadata": {},
     "output_type": "execute_result"
    },
    {
     "data": {
      "image/png": "[encoded data removed]",
      "text/plain": [
       "<Figure size 432x288 with 1 Axes>"
      ]
     },
     "metadata": {
      "needs_background": "light"
     },
     "output_type": "display_data"
    }
   ],
   "source": [
    "plt.bar(timing_data.keys(),timing_data.values())\n",
    "plt.xlabel('Table')\n",
    "plt.ylabel('Seconds')\n",
    "plt.title('Query Times for Unoptimized Queries')"
   ]
  },
  {
   "cell_type": "markdown",
   "id": "412cc94e",
   "metadata": {},
   "source": [
    "When pandas dataframes are converted into sql tables, the values are returned as tuples;\n",
    "\n",
    "We can see this using the query below"
   ]
  },
  {
   "cell_type": "code",
   "execution_count": 13,
   "id": "e3451f4d",
   "metadata": {},
   "outputs": [
    {
     "data": {
      "text/plain": [
       "Index(['id', 'diagnosis', 'radius_mean', 'texture_mean', 'perimeter_mean',\n",
       "       'area_mean', 'smoothness_mean', 'compactness_mean', 'concavity_mean',\n",
       "       'concave points_mean', 'symmetry_mean', 'fractal_dimension_mean',\n",
       "       'radius_se', 'texture_se', 'perimeter_se', 'area_se', 'smoothness_se',\n",
       "       'compactness_se', 'concavity_se', 'concave points_se', 'symmetry_se',\n",
       "       'fractal_dimension_se', 'radius_worst', 'texture_worst',\n",
       "       'perimeter_worst', 'area_worst', 'smoothness_worst',\n",
       "       'compactness_worst', 'concavity_worst', 'concave points_worst',\n",
       "       'symmetry_worst', 'fractal_dimension_worst', 'Unnamed: 32'],\n",
       "      dtype='object')"
      ]
     },
     "execution_count": 13,
     "metadata": {},
     "output_type": "execute_result"
    }
   ],
   "source": [
    "cancer_data.columns"
   ]
  },
  {
   "cell_type": "code",
   "execution_count": 14,
   "id": "47ec3aa0",
   "metadata": {},
   "outputs": [
    {
     "data": {
      "text/plain": [
       "[(842302, 'M', 17.99)]"
      ]
     },
     "execution_count": 14,
     "metadata": {},
     "output_type": "execute_result"
    }
   ],
   "source": [
    "query_db(\"\"\"SELECT id, diagnosis, radius_mean FROM cancer_data LIMIT 1\"\"\")"
   ]
  },
  {
   "cell_type": "markdown",
   "id": "e06a5062",
   "metadata": {},
   "source": [
    "<h1> <center>Part 3: Optimizing data retrieval from a database<center/>"
   ]
  },
  {
   "cell_type": "markdown",
   "id": "4fbb61bd",
   "metadata": {},
   "source": [
    "We are using multithreading to achieve parallelization of our queries"
   ]
  },
  {
   "cell_type": "markdown",
   "id": "0c81aa1f",
   "metadata": {},
   "source": [
    "**With Threadpool**"
   ]
  },
  {
   "cell_type": "code",
   "execution_count": 15,
   "id": "4763ee42",
   "metadata": {},
   "outputs": [],
   "source": [
    "# define the queries to be executed\n",
    "queries = [\"SELECT * FROM cancer_data\"]\n",
    "\n",
    "# execute the queries in parallel using a thread pool\n",
    "start_time = time.time()\n",
    "results = ThreadPool(4).map(query_db, queries)\n",
    "end_time = time.time()\n",
    "timing_data['Cancer Data'] = (end_time - start_time)\n",
    "#print(end_time - start_time)\n",
    "\n",
    "# define the queries to be executed\n",
    "queries = [\"SELECT * FROM us_school_data\"]\n",
    "\n",
    "# execute the queries in parallel using a thread pool\n",
    "start_time = time.time()\n",
    "results = ThreadPool(4).map(query_db, queries)\n",
    "end_time = time.time()\n",
    "timing_data['US School Data'] = (end_time - start_time)\n",
    "#print(end_time - start_time)\n",
    "\n",
    "# define the queries to be executed\n",
    "queries = [\"SELECT * FROM best_buy_data\"]\n",
    "\n",
    "# execute the queries in parallel using a thread pool\n",
    "start_time = time.time()\n",
    "results = ThreadPool(4).map(query_db, queries)\n",
    "end_time = time.time()\n",
    "timing_data['Best Buy Data'] = (end_time - start_time)\n",
    "#print(end_time - start_time)\n",
    "\n",
    "# define the queries to be executed\n",
    "queries = [\"SELECT * FROM manga_data\"]\n",
    "\n",
    "# execute the queries in parallel using a thread pool\n",
    "start_time = time.time()\n",
    "results = ThreadPool(4).map(query_db, queries)\n",
    "end_time = time.time()\n",
    "timing_data['Manga Data'] = (end_time - start_time)\n",
    "#print(end_time - start_time)"
   ]
  },
  {
   "cell_type": "code",
   "execution_count": 16,
   "id": "cc7ffc87",
   "metadata": {},
   "outputs": [
    {
     "data": {
      "text/plain": [
       "{'Cancer Data': 0.01537466049194336,\n",
       " 'US School Data': 0.059957265853881836,\n",
       " 'Best Buy Data': 0.04099750518798828,\n",
       " 'Manga Data': 0.5090718269348145}"
      ]
     },
     "execution_count": 16,
     "metadata": {},
     "output_type": "execute_result"
    }
   ],
   "source": [
    "timing_data"
   ]
  },
  {
   "cell_type": "code",
   "execution_count": 17,
   "id": "21014b54",
   "metadata": {},
   "outputs": [
    {
     "data": {
      "text/plain": [
       "Text(0.5, 1.0, 'Optimized Query times w/ Threadpool')"
      ]
     },
     "execution_count": 17,
     "metadata": {},
     "output_type": "execute_result"
    },
    {
     "data": {
      "image/png": "[encoded data removed]",
      "text/plain": [
       "<Figure size 432x288 with 1 Axes>"
      ]
     },
     "metadata": {
      "needs_background": "light"
     },
     "output_type": "display_data"
    }
   ],
   "source": [
    "plt.bar(timing_data.keys(),timing_data.values())\n",
    "plt.xlabel('Table')\n",
    "plt.ylabel('Seconds')\n",
    "plt.title('Optimized Query times w/ Threadpool')"
   ]
  },
  {
   "cell_type": "markdown",
   "id": "73dbe106",
   "metadata": {},
   "source": [
    "**With Pool**"
   ]
  },
  {
   "cell_type": "code",
   "execution_count": 18,
   "id": "abe638ba",
   "metadata": {},
   "outputs": [
    {
     "name": "stdout",
     "output_type": "stream",
     "text": [
      "0.18683791160583496\n",
      "0.11629295349121094\n",
      "0.10711908340454102\n",
      "1.0195527076721191\n"
     ]
    }
   ],
   "source": [
    "# define the queries to be executed\n",
    "queries = [\"SELECT * FROM cancer_data\"]\n",
    "\n",
    "# execute the queries in parallel using pool\n",
    "start_time = time.time()\n",
    "results = multiprocessing.Pool(4).map(query_db, queries)\n",
    "end_time = time.time()\n",
    "timing_data['Cancer Data'] = (end_time - start_time)\n",
    "print(end_time - start_time)\n",
    "\n",
    "# define the queries to be executed\n",
    "queries = [\"SELECT * FROM us_school_data\"]\n",
    "\n",
    "# execute the queries in parallel using a thread pool\n",
    "start_time = time.time()\n",
    "results = multiprocessing.Pool(4).map(query_db, queries)\n",
    "end_time = time.time()\n",
    "timing_data['US School Data'] = (end_time - start_time)\n",
    "print(end_time - start_time)\n",
    "\n",
    "# define the queries to be executed\n",
    "queries = [\"SELECT * FROM best_buy_data\"]\n",
    "\n",
    "# execute the queries in parallel using a thread pool\n",
    "start_time = time.time()\n",
    "results = multiprocessing.Pool(4).map(query_db, queries)\n",
    "end_time = time.time()\n",
    "timing_data['Best Buy Data'] = (end_time - start_time)\n",
    "print(end_time - start_time)\n",
    "\n",
    "# define the queries to be executed\n",
    "queries = [\"SELECT * FROM manga_data\"]\n",
    "\n",
    "# execute the queries in parallel using a thread pool\n",
    "start_time = time.time()\n",
    "results = multiprocessing.Pool(4).map(query_db, queries)\n",
    "end_time = time.time()\n",
    "timing_data['Manga Data'] = (end_time - start_time)\n",
    "print(end_time - start_time)"
   ]
  },
  {
   "cell_type": "code",
   "execution_count": 19,
   "id": "56dac1e7",
   "metadata": {},
   "outputs": [
    {
     "data": {
      "text/plain": [
       "{'Cancer Data': 0.18683791160583496,\n",
       " 'US School Data': 0.11629295349121094,\n",
       " 'Best Buy Data': 0.10711908340454102,\n",
       " 'Manga Data': 1.0195527076721191}"
      ]
     },
     "execution_count": 19,
     "metadata": {},
     "output_type": "execute_result"
    }
   ],
   "source": [
    "timing_data"
   ]
  },
  {
   "cell_type": "code",
   "execution_count": 20,
   "id": "e5378c8e",
   "metadata": {},
   "outputs": [
    {
     "data": {
      "text/plain": [
       "Text(0.5, 1.0, 'Optimized Query times w/ Pool')"
      ]
     },
     "execution_count": 20,
     "metadata": {},
     "output_type": "execute_result"
    },
    {
     "data": {
      "image/png": "[encoded data removed]",
      "text/plain": [
       "<Figure size 432x288 with 1 Axes>"
      ]
     },
     "metadata": {
      "needs_background": "light"
     },
     "output_type": "display_data"
    }
   ],
   "source": [
    "plt.bar(timing_data.keys(),timing_data.values())\n",
    "plt.xlabel('Table')\n",
    "plt.ylabel('Seconds')\n",
    "plt.title('Optimized Query times w/ Pool')"
   ]
  },
  {
   "cell_type": "markdown",
   "id": "3a3cb329",
   "metadata": {},
   "source": [
    "<h1> Part 4.1: Investigation into bigger data"
   ]
  },
  {
   "cell_type": "markdown",
   "id": "990e8e2a",
   "metadata": {},
   "source": [
    "Benchmarking Higher Data with Unoptimized Queries, Optimized Queries w/ threading, and Optimized Queries with Pool"
   ]
  },
  {
   "cell_type": "code",
   "execution_count": 21,
   "id": "5d7eaf3a",
   "metadata": {},
   "outputs": [],
   "source": [
    "manga_base = timing_data['Manga Data']\n",
    "timing_data = {}\n",
    "timing_data['Manga Data'] = manga_base"
   ]
  },
  {
   "cell_type": "code",
   "execution_count": 22,
   "id": "b025b467",
   "metadata": {},
   "outputs": [],
   "source": [
    "# create a dummy DataFrame with 1,000,000 unique rows\n",
    "table_one = pd.DataFrame({\"Col 1\": [f\"{i}\" for i in range(1000000)],\"Col 2\": [f\"{i}\" for i in range(1000000)]})\n",
    "table_one.to_sql(name='table_one', con=conn, if_exists='replace', index=False)\n",
    "\n",
    "# create a dummy DataFrame with 2,000,000 unique rows\n",
    "table_two = pd.DataFrame({\"Col 1\": [f\"{i}\" for i in range(2000000)], \"Col 2\": [f\"{i}\" for i in range(2000000)]})\n",
    "table_two.to_sql(name='table_two', con=conn, if_exists='replace', index=False)\n",
    "\n",
    "# create a dummy DataFrame with 3,000,000 unique rows\n",
    "table_three = pd.DataFrame({\"Col 1\": [f\"{i}\" for i in range(3000000)], \"Col 2\": [f\"{i}\" for i in range(3000000)]})\n",
    "table_three.to_sql(name='table_three', con=conn, if_exists='replace', index=False)\n",
    "\n",
    "# create a dummy DataFrame with 4,000,000 unique rows\n",
    "table_four = pd.DataFrame({\"Col 1\": [f\"{i}\" for i in range(4000000)], \"Col 2\": [f\"{i}\" for i in range(4000000)]})\n",
    "table_four.to_sql(name='table_four', con=conn, if_exists='replace', index=False)"
   ]
  },
  {
   "cell_type": "markdown",
   "id": "da8d86b2",
   "metadata": {},
   "source": [
    "**Unoptimized**"
   ]
  },
  {
   "cell_type": "code",
   "execution_count": 23,
   "id": "f6cf072d",
   "metadata": {},
   "outputs": [
    {
     "name": "stdout",
     "output_type": "stream",
     "text": [
      "0.5808172225952148\n",
      "1.634765625\n",
      "3.227726459503174\n",
      "4.718907833099365\n",
      "6.664623498916626\n"
     ]
    }
   ],
   "source": [
    "start_time = time.time()\n",
    "query_db(\"\"\"SELECT * FROM manga_data\"\"\")\n",
    "end_time = time.time()\n",
    "timing_data['Manga Data'] = (end_time - start_time)\n",
    "print(end_time - start_time)\n",
    "\n",
    "# execute the queries in parallel using a thread pool\n",
    "start_time = time.time()\n",
    "query_db(\"\"\"SELECT * FROM table_one\"\"\")\n",
    "end_time = time.time()\n",
    "timing_data['Table One'] = (end_time - start_time)\n",
    "print(end_time - start_time)\n",
    "\n",
    "# execute the queries in parallel using a thread pool\n",
    "start_time = time.time()\n",
    "query_db(\"\"\"SELECT * FROM table_two\"\"\")\n",
    "end_time = time.time()\n",
    "timing_data['Table Two'] = (end_time - start_time)\n",
    "print(end_time - start_time)\n",
    "\n",
    "# execute the queries in parallel using a thread pool\n",
    "start_time = time.time()\n",
    "query_db(\"\"\"SELECT * FROM table_three\"\"\")\n",
    "end_time = time.time()\n",
    "timing_data['Table Three'] = (end_time - start_time)\n",
    "print(end_time - start_time)\n",
    "\n",
    "# execute the queries in parallel using a thread pool\n",
    "start_time = time.time()\n",
    "query_db(\"\"\"SELECT * FROM table_four\"\"\")\n",
    "end_time = time.time()\n",
    "timing_data['Table Four'] = (end_time - start_time)\n",
    "print(end_time - start_time)\n",
    "\n",
    "base_higher_data = timing_data"
   ]
  },
  {
   "cell_type": "code",
   "execution_count": 24,
   "id": "a9a9ffb9",
   "metadata": {},
   "outputs": [
    {
     "data": {
      "text/plain": [
       "{'Manga Data': 0.5808172225952148,\n",
       " 'Table One': 1.634765625,\n",
       " 'Table Two': 3.227726459503174,\n",
       " 'Table Three': 4.718907833099365,\n",
       " 'Table Four': 6.664623498916626}"
      ]
     },
     "execution_count": 24,
     "metadata": {},
     "output_type": "execute_result"
    }
   ],
   "source": [
    "timing_data"
   ]
  },
  {
   "cell_type": "code",
   "execution_count": 25,
   "id": "bd6aa9d8",
   "metadata": {},
   "outputs": [
    {
     "data": {
      "text/plain": [
       "Text(0.5, 1.0, 'Unoptimized Query Times on Higher Data')"
      ]
     },
     "execution_count": 25,
     "metadata": {},
     "output_type": "execute_result"
    },
    {
     "data": {
      "image/png": "[encoded data removed]",
      "text/plain": [
       "<Figure size 432x288 with 1 Axes>"
      ]
     },
     "metadata": {
      "needs_background": "light"
     },
     "output_type": "display_data"
    }
   ],
   "source": [
    "plt.bar(timing_data.keys(),timing_data.values())\n",
    "plt.xlabel('Table')\n",
    "plt.ylabel('Query Time')\n",
    "plt.title('Unoptimized Query Times on Higher Data')"
   ]
  },
  {
   "cell_type": "markdown",
   "id": "4d0972b1",
   "metadata": {},
   "source": [
    "**With Threading**"
   ]
  },
  {
   "cell_type": "code",
   "execution_count": 26,
   "id": "9397b453",
   "metadata": {},
   "outputs": [
    {
     "name": "stdout",
     "output_type": "stream",
     "text": [
      "0.5775856971740723\n",
      "1.421968936920166\n",
      "2.918689012527466\n",
      "4.460422039031982\n",
      "6.4522058963775635\n"
     ]
    }
   ],
   "source": [
    "queries = [\"SELECT * FROM manga_data\"]\n",
    "\n",
    "# execute the queries in parallel using a thread pool\n",
    "start_time = time.time()\n",
    "results = ThreadPool(4).map(query_db, queries)\n",
    "end_time = time.time()\n",
    "timing_data['Manga Data'] = (end_time - start_time)\n",
    "print(end_time - start_time)\n",
    "\n",
    "queries = [\"SELECT * FROM table_one\"]\n",
    "\n",
    "# execute the queries in parallel using a thread pool\n",
    "start_time = time.time()\n",
    "results = ThreadPool(4).map(query_db, queries)\n",
    "end_time = time.time()\n",
    "timing_data['Table One'] = (end_time - start_time)\n",
    "print(end_time - start_time)\n",
    "\n",
    "queries = [\"SELECT * FROM table_two\"]\n",
    "\n",
    "# execute the queries in using a thread pool\n",
    "start_time = time.time()\n",
    "results = ThreadPool(4).map(query_db, queries)\n",
    "end_time = time.time()\n",
    "timing_data['Table Two'] = (end_time - start_time)\n",
    "print(end_time - start_time)\n",
    "\n",
    "queries = [\"SELECT * FROM table_three\"]\n",
    "# execute the queries using a thread pool\n",
    "start_time = time.time()\n",
    "results = ThreadPool(4).map(query_db, queries)\n",
    "end_time = time.time()\n",
    "timing_data['Table Three'] = (end_time - start_time)\n",
    "print(end_time - start_time)\n",
    "\n",
    "queries = [\"SELECT * FROM table_four\"]\n",
    "# execute the queries in using a thread pool\n",
    "start_time = time.time()\n",
    "results = ThreadPool(4).map(query_db, queries)\n",
    "end_time = time.time()\n",
    "timing_data['Table Four'] = (end_time - start_time)\n",
    "print(end_time - start_time)"
   ]
  },
  {
   "cell_type": "code",
   "execution_count": 27,
   "id": "a1bb0aeb",
   "metadata": {},
   "outputs": [
    {
     "data": {
      "text/plain": [
       "{'Manga Data': 0.5775856971740723,\n",
       " 'Table One': 1.421968936920166,\n",
       " 'Table Two': 2.918689012527466,\n",
       " 'Table Three': 4.460422039031982,\n",
       " 'Table Four': 6.4522058963775635}"
      ]
     },
     "execution_count": 27,
     "metadata": {},
     "output_type": "execute_result"
    }
   ],
   "source": [
    "thread_higher_data = timing_data\n",
    "timing_data"
   ]
  },
  {
   "cell_type": "code",
   "execution_count": 28,
   "id": "8bd13b98",
   "metadata": {},
   "outputs": [
    {
     "data": {
      "text/plain": [
       "Text(0.5, 1.0, 'Optimized Query Times w/ Higher Data (Threadpool)')"
      ]
     },
     "execution_count": 28,
     "metadata": {},
     "output_type": "execute_result"
    },
    {
     "data": {
      "image/png": "[encoded data removed]",
      "text/plain": [
       "<Figure size 432x288 with 1 Axes>"
      ]
     },
     "metadata": {
      "needs_background": "light"
     },
     "output_type": "display_data"
    }
   ],
   "source": [
    "plt.bar(timing_data.keys(),timing_data.values())\n",
    "plt.xlabel('Table')\n",
    "plt.ylabel('Query Time')\n",
    "plt.title('Optimized Query Times w/ Higher Data (Threadpool)')"
   ]
  },
  {
   "cell_type": "markdown",
   "id": "2c59af07",
   "metadata": {},
   "source": [
    "**With Pool**"
   ]
  },
  {
   "cell_type": "code",
   "execution_count": 29,
   "id": "ba1de8d1",
   "metadata": {},
   "outputs": [
    {
     "name": "stdout",
     "output_type": "stream",
     "text": [
      "1.5788512229919434\n",
      "2.7909162044525146\n",
      "5.197488307952881\n",
      "7.879606246948242\n",
      "10.710070848464966\n"
     ]
    }
   ],
   "source": [
    "queries = [\"SELECT * FROM manga_data\"]\n",
    "\n",
    "# execute the queries in parallel using pool\n",
    "start_time = time.time()\n",
    "results = multiprocessing.Pool(4).map(query_db, queries)\n",
    "end_time = time.time()\n",
    "timing_data['Manga Data'] = (end_time - start_time)\n",
    "print(end_time - start_time)\n",
    "\n",
    "queries = [\"SELECT * FROM table_one\"]\n",
    "\n",
    "# execute the queries in parallel using pool\n",
    "start_time = time.time()\n",
    "results = multiprocessing.Pool(4).map(query_db, queries)\n",
    "end_time = time.time()\n",
    "timing_data['Table One'] = (end_time - start_time)\n",
    "print(end_time - start_time)\n",
    "\n",
    "queries = [\"SELECT * FROM table_two\"]\n",
    "\n",
    "# execute the queries in parallel using pool\n",
    "start_time = time.time()\n",
    "results = multiprocessing.Pool(4).map(query_db, queries)\n",
    "end_time = time.time()\n",
    "timing_data['Table Two'] = (end_time - start_time)\n",
    "print(end_time - start_time)\n",
    "\n",
    "queries = [\"SELECT * FROM table_three\"]\n",
    "# execute the queries in parallel using pool\n",
    "start_time = time.time()\n",
    "results = multiprocessing.Pool(4).map(query_db, queries)\n",
    "end_time = time.time()\n",
    "timing_data['Table Three'] = (end_time - start_time)\n",
    "print(end_time - start_time)\n",
    "\n",
    "queries = [\"SELECT * FROM table_four\"]\n",
    "# execute the queries in parallel using pool\n",
    "start_time = time.time()\n",
    "results = multiprocessing.Pool(4).map(query_db, queries)\n",
    "end_time = time.time()\n",
    "timing_data['Table Four'] = (end_time - start_time)\n",
    "print(end_time - start_time)"
   ]
  },
  {
   "cell_type": "code",
   "execution_count": 30,
   "id": "242418ce",
   "metadata": {},
   "outputs": [
    {
     "data": {
      "text/plain": [
       "{'Manga Data': 1.5788512229919434,\n",
       " 'Table One': 2.7909162044525146,\n",
       " 'Table Two': 5.197488307952881,\n",
       " 'Table Three': 7.879606246948242,\n",
       " 'Table Four': 10.710070848464966}"
      ]
     },
     "execution_count": 30,
     "metadata": {},
     "output_type": "execute_result"
    }
   ],
   "source": [
    "pool_higher_data = timing_data\n",
    "timing_data"
   ]
  },
  {
   "cell_type": "code",
   "execution_count": 31,
   "id": "ff2998bf",
   "metadata": {},
   "outputs": [
    {
     "data": {
      "text/plain": [
       "Text(0.5, 1.0, 'Optimized Query Times w/ Higher Data (Pool)')"
      ]
     },
     "execution_count": 31,
     "metadata": {},
     "output_type": "execute_result"
    },
    {
     "data": {
      "image/png": "[encoded data removed]",
      "text/plain": [
       "<Figure size 432x288 with 1 Axes>"
      ]
     },
     "metadata": {
      "needs_background": "light"
     },
     "output_type": "display_data"
    }
   ],
   "source": [
    "plt.bar(timing_data.keys(),timing_data.values())\n",
    "plt.xlabel('Table')\n",
    "plt.ylabel('Query Time')\n",
    "plt.title('Optimized Query Times w/ Higher Data (Pool)')"
   ]
  },
  {
   "cell_type": "markdown",
   "id": "08dc307b",
   "metadata": {},
   "source": [
    "<h1> Part 4.2: Does number of threads or workers matter?"
   ]
  },
  {
   "cell_type": "markdown",
   "id": "f147b05f",
   "metadata": {},
   "source": [
    "Only Benchmarking unoptimized queries alongside optimized queries to see if the times w/ optimized queries can get better than normal queries"
   ]
  },
  {
   "cell_type": "markdown",
   "id": "77ff3228",
   "metadata": {},
   "source": [
    "**Unoptimized**"
   ]
  },
  {
   "cell_type": "code",
   "execution_count": 57,
   "id": "691ffcf9",
   "metadata": {},
   "outputs": [
    {
     "name": "stdout",
     "output_type": "stream",
     "text": [
      "0.519155740737915\n",
      "0.49002623558044434\n",
      "0.5016283988952637\n",
      "0.48340868949890137\n",
      "0.49256324768066406\n",
      "0.4916062355041504\n",
      "0.5023298263549805\n",
      "0.48571014404296875\n",
      "0.5011439323425293\n",
      "0.5048809051513672\n",
      "0.5390763282775879\n",
      "0.5080387592315674\n",
      "0.5080451965332031\n",
      "0.5074326992034912\n",
      "0.5041251182556152\n",
      "0.48798251152038574\n",
      "0.4928734302520752\n",
      "0.48410844802856445\n",
      "0.5015182495117188\n",
      "0.4902498722076416\n",
      "1.5892250537872314\n",
      "1.4236271381378174\n",
      "1.4270036220550537\n",
      "1.390070915222168\n",
      "1.3869681358337402\n",
      "1.3821511268615723\n",
      "1.422295093536377\n",
      "1.4255027770996094\n",
      "1.434253215789795\n",
      "1.4624850749969482\n",
      "1.4339663982391357\n",
      "1.5029058456420898\n",
      "1.6635942459106445\n",
      "1.5350184440612793\n",
      "1.401855707168579\n",
      "1.4724688529968262\n",
      "1.453751802444458\n",
      "1.4438741207122803\n",
      "1.4361841678619385\n",
      "1.4124999046325684\n",
      "3.050798177719116\n",
      "3.083282470703125\n",
      "3.372162342071533\n",
      "3.064199924468994\n",
      "3.0061981678009033\n",
      "3.0931756496429443\n",
      "3.0538253784179688\n",
      "2.942288637161255\n",
      "3.0119569301605225\n",
      "2.952033281326294\n",
      "3.044713258743286\n",
      "3.088300943374634\n",
      "3.0146381855010986\n",
      "3.036379337310791\n",
      "3.0105366706848145\n",
      "3.1364705562591553\n",
      "3.01794695854187\n",
      "3.8909614086151123\n",
      "3.0961132049560547\n",
      "3.108090877532959\n",
      "4.954494953155518\n",
      "4.8236634731292725\n",
      "5.124938011169434\n",
      "5.1830973625183105\n",
      "5.0394182205200195\n",
      "5.238654136657715\n",
      "5.132645845413208\n",
      "4.8387956619262695\n",
      "4.66931939125061\n",
      "4.632273197174072\n",
      "4.701664686203003\n",
      "4.706225156784058\n",
      "4.719839334487915\n",
      "4.720516681671143\n",
      "4.991980791091919\n",
      "4.896641969680786\n",
      "4.8512678146362305\n",
      "4.800118684768677\n",
      "4.762662172317505\n",
      "4.706311941146851\n",
      "6.633100271224976\n",
      "6.511815309524536\n",
      "6.402177810668945\n",
      "6.317924737930298\n",
      "6.601637601852417\n",
      "6.251469612121582\n",
      "6.914711236953735\n",
      "6.389680624008179\n",
      "6.490957736968994\n",
      "6.31251335144043\n",
      "6.470247983932495\n",
      "6.394285678863525\n",
      "6.570024013519287\n",
      "6.459210395812988\n",
      "6.366889715194702\n",
      "6.624417543411255\n",
      "6.329502105712891\n",
      "7.153646230697632\n",
      "6.755297422409058\n",
      "6.754316329956055\n"
     ]
    }
   ],
   "source": [
    "manga_times = []\n",
    "for i in range(1,21):\n",
    "    start_time = time.time()\n",
    "    query_db(\"\"\"SELECT * FROM manga_data\"\"\")\n",
    "    end_time = time.time()\n",
    "    manga_times.append(end_time - start_time)\n",
    "    timing_data['Manga Data'] = (end_time - start_time)\n",
    "    print(end_time - start_time)\n",
    "\n",
    "table_one_times = []\n",
    "for i in range(1,21):\n",
    "    # execute the queries in parallel using a thread pool\n",
    "    start_time = time.time()\n",
    "    query_db(\"\"\"SELECT * FROM table_one\"\"\")\n",
    "    end_time = time.time()\n",
    "    table_one_times.append(end_time - start_time)\n",
    "    timing_data['Table One'] = (end_time - start_time)\n",
    "    print(end_time - start_time)\n",
    "\n",
    "table_two_times = []\n",
    "for i in range(1,21):\n",
    "    # execute the queries in parallel using a thread pool\n",
    "    start_time = time.time()\n",
    "    query_db(\"\"\"SELECT * FROM table_two\"\"\")\n",
    "    end_time = time.time()\n",
    "    table_two_times.append(end_time - start_time)\n",
    "    timing_data['Table Two'] = (end_time - start_time)\n",
    "    print(end_time - start_time)\n",
    "\n",
    "table_three_times = []\n",
    "for i in range(1,21):\n",
    "    # execute the queries in parallel using a thread pool\n",
    "    start_time = time.time()\n",
    "    query_db(\"\"\"SELECT * FROM table_three\"\"\")\n",
    "    end_time = time.time()\n",
    "    table_three_times.append(end_time - start_time)\n",
    "    timing_data['Table Three'] = (end_time - start_time)\n",
    "    print(end_time - start_time)\n",
    "\n",
    "table_four_times = []\n",
    "for i in range(1,21):\n",
    "    # execute the queries in parallel using a thread pool\n",
    "    start_time = time.time()\n",
    "    query_db(\"\"\"SELECT * FROM table_four\"\"\")\n",
    "    end_time = time.time()\n",
    "    table_four_times.append(end_time - start_time)\n",
    "    timing_data['Table Four'] = (end_time - start_time)\n",
    "    print(end_time - start_time)"
   ]
  },
  {
   "cell_type": "code",
   "execution_count": 58,
   "id": "f42ecd3b",
   "metadata": {},
   "outputs": [
    {
     "data": {
      "text/plain": [
       "<matplotlib.legend.Legend at 0x7f654b9400d0>"
      ]
     },
     "execution_count": 58,
     "metadata": {},
     "output_type": "execute_result"
    },
    {
     "data": {
      "image/png": "[encoded data removed]",
      "text/plain": [
       "<Figure size 576x576 with 1 Axes>"
      ]
     },
     "metadata": {
      "needs_background": "light"
     },
     "output_type": "display_data"
    }
   ],
   "source": [
    "x = np.arange(0,20,1)\n",
    "plt.figure(figsize=(8,8))\n",
    "plt.plot(x,manga_times,label='Manga')\n",
    "plt.plot(x,table_one_times,label='T1')\n",
    "plt.plot(x,table_two_times, label='T2')\n",
    "plt.plot(x,table_three_times, label='T3')\n",
    "plt.plot(x,table_four_times, label='T4')\n",
    "plt.xlabel('Trial number')\n",
    "plt.ylabel('Time (in Seconds)')\n",
    "plt.title('Query Times of Unoptimized Queries w/ Higher Data')\n",
    "plt.legend()"
   ]
  },
  {
   "cell_type": "code",
   "execution_count": 59,
   "id": "b7ba2c00",
   "metadata": {},
   "outputs": [],
   "source": [
    "combined_times = []\n",
    "for i in range(len(table_one_times)):\n",
    "    combined_times.append(manga_times[i]+table_one_times[i]+table_two_times[i]+table_three_times[i]+table_four_times[i])"
   ]
  },
  {
   "cell_type": "code",
   "execution_count": 60,
   "id": "6e2fb17e",
   "metadata": {},
   "outputs": [
    {
     "data": {
      "text/plain": [
       "Text(0.5, 1.0, 'Combined times of Serially Unoptimized Queries (W/ Threadpool)')"
      ]
     },
     "execution_count": 60,
     "metadata": {},
     "output_type": "execute_result"
    },
    {
     "data": {
      "image/png": "[encoded data removed]",
      "text/plain": [
       "<Figure size 576x576 with 1 Axes>"
      ]
     },
     "metadata": {
      "needs_background": "light"
     },
     "output_type": "display_data"
    }
   ],
   "source": [
    "x = np.arange(0,20,1)\n",
    "plt.figure(figsize=(8,8))\n",
    "plt.scatter(x,combined_times)\n",
    "plt.axhline(y = np.mean(combined_times), color = 'r', linestyle = '-')\n",
    "plt.xlabel('Number of Threads used')\n",
    "plt.ylabel('Time (in Seconds)')\n",
    "plt.title('Combined times of Serially Unoptimized Queries')"
   ]
  },
  {
   "cell_type": "markdown",
   "id": "8504f293",
   "metadata": {},
   "source": [
    "**With Threadpool**"
   ]
  },
  {
   "cell_type": "code",
   "execution_count": 61,
   "id": "a91d76f4",
   "metadata": {},
   "outputs": [],
   "source": [
    "timing_data = {}\n",
    "timing_data['Manga Data'] = (end_time - start_time)"
   ]
  },
  {
   "cell_type": "code",
   "execution_count": 62,
   "id": "d2d35980",
   "metadata": {},
   "outputs": [
    {
     "name": "stdout",
     "output_type": "stream",
     "text": [
      "2.109294891357422\n",
      "0.5294764041900635\n",
      "0.5447998046875\n",
      "0.5252041816711426\n",
      "0.5171253681182861\n",
      "0.5240457057952881\n",
      "0.5356521606445312\n",
      "0.5295538902282715\n",
      "0.5209715366363525\n",
      "0.5207936763763428\n",
      "0.5281517505645752\n",
      "0.5354185104370117\n",
      "0.5305707454681396\n",
      "0.5266299247741699\n",
      "0.526848554611206\n",
      "0.5384197235107422\n",
      "0.5229618549346924\n",
      "0.5162854194641113\n",
      "0.6703662872314453\n",
      "0.5259313583374023\n",
      "1.6179494857788086\n",
      "1.5611505508422852\n",
      "1.4728407859802246\n",
      "1.4707891941070557\n",
      "1.4625823497772217\n",
      "1.4448471069335938\n",
      "1.440415859222412\n",
      "1.4655201435089111\n",
      "1.4810986518859863\n",
      "1.4884648323059082\n",
      "1.5012989044189453\n",
      "1.499537467956543\n",
      "1.5298583507537842\n",
      "1.537801742553711\n",
      "1.4956426620483398\n",
      "1.5790579319000244\n",
      "1.5351004600524902\n",
      "1.5292744636535645\n",
      "1.5025560855865479\n",
      "1.484738826751709\n",
      "3.1945786476135254\n",
      "3.067596673965454\n",
      "3.027482032775879\n",
      "2.9650144577026367\n",
      "3.1661970615386963\n",
      "3.033740997314453\n",
      "3.0558693408966064\n",
      "3.0967769622802734\n",
      "3.040464401245117\n",
      "3.185246706008911\n",
      "3.524458169937134\n",
      "3.3272624015808105\n",
      "3.325201988220215\n",
      "3.2206690311431885\n",
      "3.3659727573394775\n",
      "3.344799518585205\n",
      "3.176654100418091\n",
      "3.084568738937378\n",
      "3.061586618423462\n",
      "3.218005657196045\n",
      "4.977560520172119\n",
      "4.913761854171753\n",
      "4.692228555679321\n",
      "4.946545839309692\n",
      "4.906508445739746\n",
      "4.9632439613342285\n",
      "4.930718183517456\n",
      "4.961620807647705\n",
      "4.873669624328613\n",
      "5.262778282165527\n",
      "5.298499584197998\n",
      "5.355697154998779\n",
      "5.354862928390503\n",
      "5.512458801269531\n",
      "5.27705454826355\n",
      "5.12062668800354\n",
      "4.791005849838257\n",
      "4.878072738647461\n",
      "5.029236078262329\n",
      "5.855030298233032\n",
      "7.738017559051514\n",
      "7.34133243560791\n",
      "6.875784158706665\n",
      "7.742986440658569\n",
      "7.901093482971191\n",
      "6.948306322097778\n",
      "8.027156114578247\n",
      "7.801974773406982\n",
      "7.363431453704834\n",
      "6.4685423374176025\n",
      "6.400491952896118\n",
      "6.403711318969727\n",
      "6.180552959442139\n",
      "7.402228116989136\n",
      "7.050795078277588\n",
      "7.095319986343384\n",
      "6.858737230300903\n",
      "6.747915267944336\n",
      "8.029279947280884\n",
      "7.897876739501953\n"
     ]
    }
   ],
   "source": [
    "queries = [\"SELECT * FROM manga_data\"]\n",
    "\n",
    "manga_times = []\n",
    "# execute the queries in parallel using a thread pool\n",
    "for i in range(1,21):\n",
    "    start_time = time.time()\n",
    "    results = ThreadPool(i).map(query_db, queries)\n",
    "    end_time = time.time()\n",
    "    manga_times.append(end_time - start_time)\n",
    "    print(end_time - start_time)\n",
    "timing_data['Manga Data'] = manga_times\n",
    "\n",
    "queries = [\"SELECT * FROM table_one\"]\n",
    "\n",
    "table_one_times = []\n",
    "# execute the queries in parallel using a thread pool\n",
    "for i in range(1,21):\n",
    "    start_time = time.time()\n",
    "    results = ThreadPool(i).map(query_db, queries)\n",
    "    end_time = time.time()\n",
    "    table_one_times.append(end_time - start_time)\n",
    "    print(end_time - start_time)\n",
    "timing_data['Table One'] = table_one_times\n",
    "\n",
    "queries = [\"SELECT * FROM table_two\"]\n",
    "\n",
    "table_two_times = []\n",
    "# execute the queries in parallel using a thread pool\n",
    "for i in range(1,21):\n",
    "    start_time = time.time()\n",
    "    results = ThreadPool(i).map(query_db, queries)\n",
    "    end_time = time.time()\n",
    "    table_two_times.append(end_time - start_time)\n",
    "    print(end_time - start_time)\n",
    "timing_data['Table Two'] = table_two_times\n",
    "\n",
    "queries = [\"SELECT * FROM table_three\"]\n",
    "\n",
    "table_three_times = []\n",
    "# execute the queries in parallel using a thread pool\n",
    "for i in range(1,21):\n",
    "    start_time = time.time()\n",
    "    results = ThreadPool(i).map(query_db, queries)\n",
    "    end_time = time.time()\n",
    "    table_three_times.append(end_time - start_time)\n",
    "    print(end_time - start_time)\n",
    "timing_data['Table Three'] = table_three_times\n",
    "\n",
    "queries = [\"SELECT * FROM table_four\"]\n",
    "\n",
    "table_four_times = []\n",
    "# execute the queries in parallel using a thread pool\n",
    "for i in range(1,21):\n",
    "    start_time = time.time()\n",
    "    results = ThreadPool(i).map(query_db, queries)\n",
    "    end_time = time.time()\n",
    "    table_four_times.append(end_time - start_time)\n",
    "    print(end_time - start_time)\n",
    "timing_data['Table Four'] = table_four_times\n",
    "\n",
    "t1 = timing_data"
   ]
  },
  {
   "cell_type": "code",
   "execution_count": 63,
   "id": "40fcf1e9",
   "metadata": {},
   "outputs": [
    {
     "data": {
      "text/plain": [
       "<matplotlib.legend.Legend at 0x7f67382a8160>"
      ]
     },
     "execution_count": 63,
     "metadata": {},
     "output_type": "execute_result"
    },
    {
     "data": {
      "image/png": "[encoded data removed]",
      "text/plain": [
       "<Figure size 576x576 with 1 Axes>"
      ]
     },
     "metadata": {
      "needs_background": "light"
     },
     "output_type": "display_data"
    }
   ],
   "source": [
    "x = np.arange(0,20,1)\n",
    "plt.figure(figsize=(8,8))\n",
    "plt.plot(x,manga_times,label='Manga')\n",
    "plt.plot(x,table_one_times,label='T1')\n",
    "plt.plot(x,table_two_times, label='T2')\n",
    "plt.plot(x,table_three_times, label='T3')\n",
    "plt.plot(x,table_four_times, label='T4')\n",
    "plt.xlabel('Number of Threads used')\n",
    "plt.ylabel('Time (in Seconds)')\n",
    "plt.title('Query Times of Higher Data w/ Threadpool')\n",
    "plt.legend()"
   ]
  },
  {
   "cell_type": "code",
   "execution_count": 64,
   "id": "a4d54111",
   "metadata": {},
   "outputs": [],
   "source": [
    "combined_times = []\n",
    "for i in range(len(table_one_times)):\n",
    "    combined_times.append(manga_times[i]+table_one_times[i]+table_two_times[i]+table_three_times[i]+table_four_times[i])"
   ]
  },
  {
   "cell_type": "code",
   "execution_count": 65,
   "id": "1f433cba",
   "metadata": {},
   "outputs": [
    {
     "data": {
      "text/plain": [
       "Text(0.5, 1.0, 'Combined times of Serially Optimized Queries (W/ Threadpool)')"
      ]
     },
     "execution_count": 65,
     "metadata": {},
     "output_type": "execute_result"
    },
    {
     "data": {
      "image/png": "[encoded data removed]",
      "text/plain": [
       "<Figure size 576x576 with 1 Axes>"
      ]
     },
     "metadata": {
      "needs_background": "light"
     },
     "output_type": "display_data"
    }
   ],
   "source": [
    "x = np.arange(0,20,1)\n",
    "plt.figure(figsize=(8,8))\n",
    "plt.scatter(x,combined_times)\n",
    "plt.axhline(y = np.mean(combined_times), color = 'r', linestyle = '-')\n",
    "plt.xlabel('Number of Threads used')\n",
    "plt.ylabel('Time (in Seconds)')\n",
    "plt.title('Combined times of Serially Optimized Queries (W/ Threadpool)')"
   ]
  },
  {
   "cell_type": "markdown",
   "id": "70ce6256",
   "metadata": {},
   "source": [
    "**With Pool**"
   ]
  },
  {
   "cell_type": "code",
   "execution_count": 66,
   "id": "dcfd1a29",
   "metadata": {},
   "outputs": [],
   "source": [
    "timing_data = {}"
   ]
  },
  {
   "cell_type": "code",
   "execution_count": 67,
   "id": "d1ef478c",
   "metadata": {},
   "outputs": [
    {
     "name": "stdout",
     "output_type": "stream",
     "text": [
      "2.0902390480041504\n",
      "1.4643657207489014\n",
      "1.513780117034912\n",
      "1.7211885452270508\n",
      "1.6914701461791992\n",
      "1.756606101989746\n",
      "1.983339548110962\n",
      "1.9426488876342773\n",
      "2.034547805786133\n",
      "2.0846211910247803\n",
      "2.1446595191955566\n",
      "2.277545928955078\n",
      "2.3576478958129883\n",
      "2.4623231887817383\n",
      "2.4627256393432617\n",
      "2.6034610271453857\n",
      "2.610642910003662\n",
      "2.7476353645324707\n",
      "2.8626155853271484\n",
      "2.886370897293091\n",
      "2.769350528717041\n",
      "2.96105694770813\n",
      "3.151843547821045\n",
      "3.2104744911193848\n",
      "3.587430477142334\n",
      "3.4977309703826904\n",
      "3.516252279281616\n",
      "3.5603747367858887\n",
      "3.471622943878174\n",
      "3.4923410415649414\n",
      "3.6667263507843018\n",
      "3.8459856510162354\n",
      "4.04556941986084\n",
      "4.077447414398193\n",
      "4.321496486663818\n",
      "4.1760101318359375\n",
      "4.24255895614624\n",
      "4.269028663635254\n",
      "4.342722177505493\n",
      "4.61017370223999\n",
      "6.173131465911865\n",
      "6.180660963058472\n",
      "5.974329471588135\n",
      "7.258104085922241\n",
      "6.774991989135742\n",
      "6.488354921340942\n",
      "6.425877094268799\n",
      "6.253742694854736\n",
      "6.435255289077759\n",
      "6.511824369430542\n",
      "6.58613395690918\n",
      "6.5898237228393555\n",
      "6.802339792251587\n",
      "6.7558112144470215\n",
      "6.763895750045776\n",
      "6.898532867431641\n",
      "6.8651416301727295\n",
      "6.807897090911865\n",
      "6.958758115768433\n",
      "6.951234340667725\n",
      "7.887084007263184\n",
      "7.812832593917847\n",
      "7.933355808258057\n",
      "12.094038724899292\n",
      "8.116546154022217\n",
      "8.114974021911621\n",
      "8.263510704040527\n",
      "8.472425699234009\n",
      "8.399821043014526\n",
      "8.49596357345581\n",
      "8.829392433166504\n",
      "8.599308252334595\n",
      "9.657187223434448\n",
      "9.250715970993042\n",
      "9.658815860748291\n",
      "9.275123596191406\n",
      "8.97252368927002\n",
      "9.56948447227478\n",
      "9.276782751083374\n",
      "9.415341854095459\n",
      "10.728947877883911\n",
      "10.764085292816162\n",
      "10.950711011886597\n",
      "13.21495270729065\n",
      "16.774490356445312\n",
      "16.2554771900177\n",
      "16.61192488670349\n",
      "15.564287424087524\n",
      "12.15272307395935\n",
      "12.35228419303894\n",
      "12.777620077133179\n",
      "13.926286697387695\n",
      "17.45750331878662\n",
      "17.602386474609375\n",
      "17.749035835266113\n",
      "17.649534225463867\n",
      "18.272461652755737\n",
      "17.89541530609131\n",
      "21.615082025527954\n",
      "28.460721492767334\n"
     ]
    }
   ],
   "source": [
    "queries = [\"SELECT * FROM manga_data\"]\n",
    "\n",
    "manga_times = []\n",
    "# execute the queries in parallel using a thread pool\n",
    "for i in range(1,21):\n",
    "    start_time = time.time()\n",
    "    results = multiprocessing.Pool(i).map(query_db, queries)\n",
    "    end_time = time.time()\n",
    "    manga_times.append(end_time - start_time)\n",
    "    print(end_time - start_time)\n",
    "timing_data['Manga Data'] = manga_times\n",
    "\n",
    "queries = [\"SELECT * FROM table_one\"]\n",
    "\n",
    "table_one_times = []\n",
    "# execute the queries in parallel using a thread pool\n",
    "for i in range(1,21):\n",
    "    start_time = time.time()\n",
    "    results = multiprocessing.Pool(i).map(query_db, queries)\n",
    "    end_time = time.time()\n",
    "    table_one_times.append(end_time - start_time)\n",
    "    print(end_time - start_time)\n",
    "timing_data['Table One'] = table_one_times\n",
    "\n",
    "queries = [\"SELECT * FROM table_two\"]\n",
    "\n",
    "table_two_times = []\n",
    "# execute the queries in parallel using a thread pool\n",
    "for i in range(1,21):\n",
    "    start_time = time.time()\n",
    "    results = multiprocessing.Pool(i).map(query_db, queries)\n",
    "    end_time = time.time()\n",
    "    table_two_times.append(end_time - start_time)\n",
    "    print(end_time - start_time)\n",
    "timing_data['Table Two'] = table_two_times\n",
    "\n",
    "queries = [\"SELECT * FROM table_three\"]\n",
    "\n",
    "table_three_times = []\n",
    "# execute the queries in parallel using a thread pool\n",
    "for i in range(1,21):\n",
    "    start_time = time.time()\n",
    "    results = multiprocessing.Pool(i).map(query_db, queries)\n",
    "    end_time = time.time()\n",
    "    table_three_times.append(end_time - start_time)\n",
    "    print(end_time - start_time)\n",
    "timing_data['Table Three'] = table_three_times\n",
    "\n",
    "queries = [\"SELECT * FROM table_four\"]\n",
    "\n",
    "table_four_times = []\n",
    "# execute the queries in parallel using a thread pool\n",
    "for i in range(1,21):\n",
    "    start_time = time.time()\n",
    "    results = multiprocessing.Pool(i).map(query_db, queries)\n",
    "    end_time = time.time()\n",
    "    table_four_times.append(end_time - start_time)\n",
    "    print(end_time - start_time)\n",
    "timing_data['Table Four'] = table_four_times\n",
    "\n",
    "t2 = timing_data"
   ]
  },
  {
   "cell_type": "code",
   "execution_count": 68,
   "id": "563bf666",
   "metadata": {},
   "outputs": [
    {
     "data": {
      "text/plain": [
       "<matplotlib.legend.Legend at 0x7f657313ee80>"
      ]
     },
     "execution_count": 68,
     "metadata": {},
     "output_type": "execute_result"
    },
    {
     "data": {
      "image/png": "[encoded data removed]",
      "text/plain": [
       "<Figure size 576x576 with 1 Axes>"
      ]
     },
     "metadata": {
      "needs_background": "light"
     },
     "output_type": "display_data"
    }
   ],
   "source": [
    "x = np.arange(0,20,1)\n",
    "plt.figure(figsize=(8,8))\n",
    "plt.plot(x,manga_times,label='Manga')\n",
    "plt.plot(x,table_one_times,label='T1')\n",
    "plt.plot(x,table_two_times, label='T2')\n",
    "plt.plot(x,table_three_times, label='T3')\n",
    "plt.plot(x,table_four_times, label='T4')\n",
    "plt.xlabel('Number of Cores used')\n",
    "plt.ylabel('Time (in Seconds)')\n",
    "plt.title('Query Times of Higher Data w/ Pool')\n",
    "plt.legend()"
   ]
  },
  {
   "cell_type": "code",
   "execution_count": 69,
   "id": "d04f1614",
   "metadata": {},
   "outputs": [],
   "source": [
    "combined_times = []\n",
    "for i in range(len(table_one_times)):\n",
    "    combined_times.append(manga_times[i] + table_one_times[i]+table_two_times[i]+table_three_times[i]+table_four_times[i])"
   ]
  },
  {
   "cell_type": "code",
   "execution_count": 70,
   "id": "f1dc36a5",
   "metadata": {},
   "outputs": [
    {
     "data": {
      "text/plain": [
       "Text(0.5, 1.0, 'Combined times of Serially Optimized Queries (W/ Pool)')"
      ]
     },
     "execution_count": 70,
     "metadata": {},
     "output_type": "execute_result"
    },
    {
     "data": {
      "image/png": "[encoded data removed]",
      "text/plain": [
       "<Figure size 576x576 with 1 Axes>"
      ]
     },
     "metadata": {
      "needs_background": "light"
     },
     "output_type": "display_data"
    }
   ],
   "source": [
    "x = np.arange(0,20,1)\n",
    "plt.figure(figsize=(8,8))\n",
    "plt.scatter(x,combined_times)\n",
    "plt.axhline(y = np.mean(combined_times), color = 'r', linestyle = '-')\n",
    "plt.xlabel('Number of Threads used')\n",
    "plt.ylabel('Time (in Seconds)')\n",
    "plt.title('Combined times of Serially Optimized Queries (W/ Pool)')"
   ]
  },
  {
   "cell_type": "markdown",
   "id": "a16085ce",
   "metadata": {},
   "source": [
    "<h1> Part 5: Running Multiple Queries in parallel"
   ]
  },
  {
   "cell_type": "code",
   "execution_count": 42,
   "id": "d70335a3",
   "metadata": {},
   "outputs": [],
   "source": [
    "timing_data = {}"
   ]
  },
  {
   "cell_type": "code",
   "execution_count": 43,
   "id": "9c276f39",
   "metadata": {},
   "outputs": [
    {
     "name": "stdout",
     "output_type": "stream",
     "text": [
      "16.574278831481934\n",
      "16.672070264816284\n",
      "30.995534896850586\n",
      "48.81621217727661\n",
      "62.49620580673218\n",
      "66.88315463066101\n",
      "76.89574360847473\n",
      "52.31130623817444\n",
      "61.78257203102112\n",
      "60.96008849143982\n",
      "58.77553915977478\n",
      "60.52059721946716\n",
      "59.0208477973938\n",
      "65.34103226661682\n",
      "66.67041683197021\n",
      "81.66824626922607\n",
      "69.54035925865173\n",
      "57.17120957374573\n",
      "57.30028033256531\n",
      "58.6257164478302\n"
     ]
    }
   ],
   "source": [
    "queries = [\"SELECT * FROM Manga_data\",\n",
    "           \"SELECT * FROM table_one\",\n",
    "           \"SELECT * FROM table_two\",\n",
    "           \"SELECT * FROM table_three\",\n",
    "           \"SELECT * FROM table_four\"]\n",
    "\n",
    "parallel_query_times = []\n",
    "\n",
    "# execute the queries in parallel using a thread pool\n",
    "for i in range(1,21):\n",
    "    start_time = time.time()\n",
    "    results = ThreadPool(i).map(query_db, queries)\n",
    "    end_time = time.time()\n",
    "    parallel_query_times.append(end_time - start_time)\n",
    "    print(end_time - start_time)\n",
    "\n",
    "timing_data['Parallel Queries'] = parallel_query_times"
   ]
  },
  {
   "cell_type": "code",
   "execution_count": 44,
   "id": "554926df",
   "metadata": {},
   "outputs": [
    {
     "data": {
      "text/plain": [
       "{'Parallel Queries': [16.574278831481934,\n",
       "  16.672070264816284,\n",
       "  30.995534896850586,\n",
       "  48.81621217727661,\n",
       "  62.49620580673218,\n",
       "  66.88315463066101,\n",
       "  76.89574360847473,\n",
       "  52.31130623817444,\n",
       "  61.78257203102112,\n",
       "  60.96008849143982,\n",
       "  58.77553915977478,\n",
       "  60.52059721946716,\n",
       "  59.0208477973938,\n",
       "  65.34103226661682,\n",
       "  66.67041683197021,\n",
       "  81.66824626922607,\n",
       "  69.54035925865173,\n",
       "  57.17120957374573,\n",
       "  57.30028033256531,\n",
       "  58.6257164478302]}"
      ]
     },
     "execution_count": 44,
     "metadata": {},
     "output_type": "execute_result"
    }
   ],
   "source": [
    "parallel_pool_higher_data = timing_data\n",
    "timing_data"
   ]
  },
  {
   "cell_type": "code",
   "execution_count": 45,
   "id": "bac3484a",
   "metadata": {},
   "outputs": [
    {
     "data": {
      "text/plain": [
       "Text(0.5, 1.0, 'Parallelized Query Times w/ Threadpool')"
      ]
     },
     "execution_count": 45,
     "metadata": {},
     "output_type": "execute_result"
    },
    {
     "data": {
      "image/png": "[encoded data removed]",
      "text/plain": [
       "<Figure size 576x576 with 1 Axes>"
      ]
     },
     "metadata": {
      "needs_background": "light"
     },
     "output_type": "display_data"
    }
   ],
   "source": [
    "x = np.arange(0,20,1)\n",
    "plt.figure(figsize=(8,8))\n",
    "plt.scatter(x,parallel_query_times)\n",
    "plt.axhline(y = np.mean(parallel_query_times), color = 'r', linestyle = '-')\n",
    "plt.xlabel('Number of Cores used')\n",
    "plt.ylabel('Time (in Seconds)')\n",
    "plt.title('Parallelized Query Times w/ Threadpool')"
   ]
  },
  {
   "cell_type": "code",
   "execution_count": 46,
   "id": "91b7085a",
   "metadata": {},
   "outputs": [
    {
     "name": "stdout",
     "output_type": "stream",
     "text": [
      "30.214163303375244\n",
      "17.48041605949402\n",
      "14.237905979156494\n",
      "12.985740184783936\n",
      "12.318784236907959\n",
      "11.676365852355957\n",
      "12.934742450714111\n",
      "12.495992422103882\n",
      "12.377488851547241\n",
      "13.016418218612671\n",
      "14.116968154907227\n",
      "15.228502750396729\n",
      "14.959754943847656\n",
      "13.502768516540527\n",
      "13.648104667663574\n",
      "13.467891931533813\n",
      "13.53007197380066\n",
      "13.35285758972168\n",
      "13.545351505279541\n",
      "13.516186952590942\n"
     ]
    }
   ],
   "source": [
    "queries = [\"SELECT * FROM Manga_data\",\n",
    "           \"SELECT * FROM table_one\",\n",
    "           \"SELECT * FROM table_two\",\n",
    "           \"SELECT * FROM table_three\",\n",
    "           \"SELECT * FROM table_four\"]\n",
    "\n",
    "parallel_query_times = []\n",
    "\n",
    "# execute the queries in parallel using a thread pool\n",
    "for i in range(1,21):\n",
    "    start_time = time.time()\n",
    "    results = multiprocessing.Pool(i).map(query_db, queries)\n",
    "    end_time = time.time()\n",
    "    parallel_query_times.append(end_time - start_time)\n",
    "    print(end_time - start_time)\n",
    "\n",
    "timing_data['Parallel Queries'] = parallel_query_times"
   ]
  },
  {
   "cell_type": "code",
   "execution_count": 47,
   "id": "b90de554",
   "metadata": {},
   "outputs": [
    {
     "data": {
      "text/plain": [
       "{'Parallel Queries': [30.214163303375244,\n",
       "  17.48041605949402,\n",
       "  14.237905979156494,\n",
       "  12.985740184783936,\n",
       "  12.318784236907959,\n",
       "  11.676365852355957,\n",
       "  12.934742450714111,\n",
       "  12.495992422103882,\n",
       "  12.377488851547241,\n",
       "  13.016418218612671,\n",
       "  14.116968154907227,\n",
       "  15.228502750396729,\n",
       "  14.959754943847656,\n",
       "  13.502768516540527,\n",
       "  13.648104667663574,\n",
       "  13.467891931533813,\n",
       "  13.53007197380066,\n",
       "  13.35285758972168,\n",
       "  13.545351505279541,\n",
       "  13.516186952590942]}"
      ]
     },
     "execution_count": 47,
     "metadata": {},
     "output_type": "execute_result"
    }
   ],
   "source": [
    "parallel_thread_higher_data = timing_data\n",
    "timing_data"
   ]
  },
  {
   "cell_type": "code",
   "execution_count": 48,
   "id": "ada8d215",
   "metadata": {},
   "outputs": [
    {
     "data": {
      "text/plain": [
       "Text(0.5, 1.0, 'Parallelized Query Times w/ Pool')"
      ]
     },
     "execution_count": 48,
     "metadata": {},
     "output_type": "execute_result"
    },
    {
     "data": {
      "image/png": "[encoded data removed]",
      "text/plain": [
       "<Figure size 576x576 with 1 Axes>"
      ]
     },
     "metadata": {
      "needs_background": "light"
     },
     "output_type": "display_data"
    }
   ],
   "source": [
    "x = np.arange(0,20,1)\n",
    "plt.figure(figsize=(8,8))\n",
    "plt.scatter(x,parallel_query_times)\n",
    "plt.axhline(y = np.mean(parallel_query_times), color = 'r', linestyle = '-')\n",
    "plt.xlabel('Number of workers used')\n",
    "plt.ylabel('Time (in Seconds)')\n",
    "plt.title('Parallelized Query Times w/ Pool')"
   ]
  },
  {
   "cell_type": "code",
   "execution_count": null,
   "id": "233ef27c",
   "metadata": {},
   "outputs": [],
   "source": []
  },
  {
   "cell_type": "code",
   "execution_count": null,
   "id": "eae42ab0",
   "metadata": {},
   "outputs": [],
   "source": []
  },
  {
   "cell_type": "code",
   "execution_count": null,
   "id": "5866de83",
   "metadata": {},
   "outputs": [],
   "source": []
  },
  {
   "cell_type": "code",
   "execution_count": 49,
   "id": "b042f459",
   "metadata": {},
   "outputs": [
    {
     "data": {
      "text/plain": [
       "{'Cancer Data': 0.18683791160583496,\n",
       " 'US School Data': 0.11629295349121094,\n",
       " 'Best Buy Data': 0.10711908340454102,\n",
       " 'Manga Data': 1.0195527076721191}"
      ]
     },
     "execution_count": 49,
     "metadata": {},
     "output_type": "execute_result"
    },
    {
     "data": {
      "image/png": "[encoded data removed]",
      "text/plain": [
       "<Figure size 432x288 with 1 Axes>"
      ]
     },
     "metadata": {
      "needs_background": "light"
     },
     "output_type": "display_data"
    }
   ],
   "source": [
    "plt.bar(base1.keys(),base1.values())\n",
    "plt.title(\"Unoptimized Query Times w/ Base Data\")\n",
    "base1"
   ]
  },
  {
   "cell_type": "code",
   "execution_count": 50,
   "id": "00f2e7fd",
   "metadata": {},
   "outputs": [
    {
     "ename": "NameError",
     "evalue": "name 'base2' is not defined",
     "output_type": "error",
     "traceback": [
      "\u001b[0;31m---------------------------------------------------------------------------\u001b[0m",
      "\u001b[0;31mNameError\u001b[0m                                 Traceback (most recent call last)",
      "\u001b[0;32m<ipython-input-50-e9e4b0d18243>\u001b[0m in \u001b[0;36m<module>\u001b[0;34m\u001b[0m\n\u001b[0;32m----> 1\u001b[0;31m \u001b[0mplt\u001b[0m\u001b[0;34m.\u001b[0m\u001b[0mbar\u001b[0m\u001b[0;34m(\u001b[0m\u001b[0mbase2\u001b[0m\u001b[0;34m.\u001b[0m\u001b[0mkeys\u001b[0m\u001b[0;34m(\u001b[0m\u001b[0;34m)\u001b[0m\u001b[0;34m,\u001b[0m\u001b[0mbase2\u001b[0m\u001b[0;34m.\u001b[0m\u001b[0mvalues\u001b[0m\u001b[0;34m(\u001b[0m\u001b[0;34m)\u001b[0m\u001b[0;34m)\u001b[0m\u001b[0;34m\u001b[0m\u001b[0;34m\u001b[0m\u001b[0m\n\u001b[0m\u001b[1;32m      2\u001b[0m \u001b[0mplt\u001b[0m\u001b[0;34m.\u001b[0m\u001b[0mtitle\u001b[0m\u001b[0;34m(\u001b[0m\u001b[0;34m\"Unoptimized Query Times w/ Higher data\"\u001b[0m\u001b[0;34m)\u001b[0m\u001b[0;34m\u001b[0m\u001b[0;34m\u001b[0m\u001b[0m\n\u001b[1;32m      3\u001b[0m \u001b[0mbase2\u001b[0m\u001b[0;34m\u001b[0m\u001b[0;34m\u001b[0m\u001b[0m\n",
      "\u001b[0;31mNameError\u001b[0m: name 'base2' is not defined"
     ]
    }
   ],
   "source": [
    "plt.bar(base2.keys(),base2.values())\n",
    "plt.title(\"Unoptimized Query Times w/ Higher data\")\n",
    "base2"
   ]
  },
  {
   "cell_type": "code",
   "execution_count": null,
   "id": "8146fc4c",
   "metadata": {},
   "outputs": [],
   "source": []
  }
 ],
 "metadata": {
  "kernelspec": {
   "display_name": "Python 3",
   "language": "python",
   "name": "python3"
  },
  "language_info": {
   "codemirror_mode": {
    "name": "ipython",
    "version": 3
   },
   "file_extension": ".py",
   "mimetype": "text/x-python",
   "name": "python",
   "nbconvert_exporter": "python",
   "pygments_lexer": "ipython3",
   "version": "3.8.8"
  }
 },
 "nbformat": 4,
 "nbformat_minor": 5
}
